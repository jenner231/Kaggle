{
 "cells": [
  {
   "cell_type": "code",
   "execution_count": 42,
   "metadata": {},
   "outputs": [],
   "source": [
    "#matplotlib inline\n",
    "import pandas as pd\n",
    "import numpy as np\n",
    "import matplotlib.pyplot as plt\n",
    "import seaborn as sns\n",
    "from sklearn.impute import SimpleImputer\n",
    "from sklearn.preprocessing import OneHotEncoder\n",
    "from sklearn.preprocessing import OrdinalEncoder\n",
    "#import train test split\n",
    "from sklearn.model_selection import train_test_split\n"
   ]
  },
  {
   "cell_type": "code",
   "execution_count": 49,
   "metadata": {},
   "outputs": [
    {
     "name": "stdout",
     "output_type": "stream",
     "text": [
      "PassengerId    0\n",
      "Pclass         0\n",
      "Name           0\n",
      "Sex            0\n",
      "SibSp          0\n",
      "Parch          0\n",
      "Fare           0\n",
      "dtype: int64\n"
     ]
    }
   ],
   "source": [
    "#Read in the data\n",
    "df = pd.read_csv('train.csv')\n",
    "y = df['Survived']\n",
    "#print number of classes\n",
    "X = df.copy()\n",
    "X = X.drop(['Survived', 'Ticket', 'Embarked', 'Age', 'Cabin'], axis=1)\n",
    "\n",
    "\n",
    "#Check for missing values\n",
    "print(X.isnull().sum())\n",
    "#Age, Cabin, and Embarked have missing values\n",
    "#imputer = SimpleImputer(strategy='most_frequent')\n",
    "\n"
   ]
  },
  {
   "cell_type": "code",
   "execution_count": 51,
   "metadata": {},
   "outputs": [
    {
     "name": "stdout",
     "output_type": "stream",
     "text": [
      "Categorical variables:\n",
      "['Sex']\n",
      "     PassengerId  Pclass                                               Name  \\\n",
      "0              1       3                            Braund, Mr. Owen Harris   \n",
      "1              2       1  Cumings, Mrs. John Bradley (Florence Briggs Th...   \n",
      "2              3       3                             Heikkinen, Miss. Laina   \n",
      "3              4       1       Futrelle, Mrs. Jacques Heath (Lily May Peel)   \n",
      "4              5       3                           Allen, Mr. William Henry   \n",
      "..           ...     ...                                                ...   \n",
      "886          887       2                              Montvila, Rev. Juozas   \n",
      "887          888       1                       Graham, Miss. Margaret Edith   \n",
      "888          889       3           Johnston, Miss. Catherine Helen \"Carrie\"   \n",
      "889          890       1                              Behr, Mr. Karl Howell   \n",
      "890          891       3                                Dooley, Mr. Patrick   \n",
      "\n",
      "     Sex  SibSp  Parch     Fare  \n",
      "0    1.0      1      0   7.2500  \n",
      "1    0.0      1      0  71.2833  \n",
      "2    0.0      0      0   7.9250  \n",
      "3    0.0      1      0  53.1000  \n",
      "4    1.0      0      0   8.0500  \n",
      "..   ...    ...    ...      ...  \n",
      "886  1.0      0      0  13.0000  \n",
      "887  0.0      0      0  30.0000  \n",
      "888  0.0      1      2  23.4500  \n",
      "889  1.0      0      0  30.0000  \n",
      "890  1.0      0      0   7.7500  \n",
      "\n",
      "[891 rows x 7 columns]\n",
      "     PassengerId                                               Name  Sex  \\\n",
      "0              1                            Braund, Mr. Owen Harris  1.0   \n",
      "1              2  Cumings, Mrs. John Bradley (Florence Briggs Th...  0.0   \n",
      "2              3                             Heikkinen, Miss. Laina  0.0   \n",
      "3              4       Futrelle, Mrs. Jacques Heath (Lily May Peel)  0.0   \n",
      "4              5                           Allen, Mr. William Henry  1.0   \n",
      "..           ...                                                ...  ...   \n",
      "886          887                              Montvila, Rev. Juozas  1.0   \n",
      "887          888                       Graham, Miss. Margaret Edith  0.0   \n",
      "888          889           Johnston, Miss. Catherine Helen \"Carrie\"  0.0   \n",
      "889          890                              Behr, Mr. Karl Howell  1.0   \n",
      "890          891                                Dooley, Mr. Patrick  1.0   \n",
      "\n",
      "     SibSp  Parch     Fare  Pclass_1  Pclass_2  Pclass_3  \n",
      "0        1      0   7.2500       0.0       0.0       1.0  \n",
      "1        1      0  71.2833       1.0       0.0       0.0  \n",
      "2        0      0   7.9250       0.0       0.0       1.0  \n",
      "3        1      0  53.1000       1.0       0.0       0.0  \n",
      "4        0      0   8.0500       0.0       0.0       1.0  \n",
      "..     ...    ...      ...       ...       ...       ...  \n",
      "886      0      0  13.0000       0.0       1.0       0.0  \n",
      "887      0      0  30.0000       1.0       0.0       0.0  \n",
      "888      1      2  23.4500       0.0       0.0       1.0  \n",
      "889      0      0  30.0000       1.0       0.0       0.0  \n",
      "890      0      0   7.7500       0.0       0.0       1.0  \n",
      "\n",
      "[891 rows x 9 columns]\n"
     ]
    },
    {
     "name": "stderr",
     "output_type": "stream",
     "text": [
      "/home/jens/.local/lib/python3.10/site-packages/sklearn/preprocessing/_encoders.py:868: FutureWarning: `sparse` was renamed to `sparse_output` in version 1.2 and will be removed in 1.4. `sparse_output` is ignored unless you leave `sparse` to its default value.\n",
      "  warnings.warn(\n"
     ]
    }
   ],
   "source": [
    "s = X.dtypes == \"object\"\n",
    "object_cols = list(s[s].index)\n",
    "print(\"Categorical variables:\")\n",
    "object_cols.remove(\"Name\")\n",
    "print(object_cols)\n",
    "label_X = X.copy()\n",
    "oe = OrdinalEncoder()\n",
    "ohe = OneHotEncoder(handle_unknown='ignore', sparse=False)\n",
    "label_X[object_cols] = oe.fit_transform(X[object_cols])\n",
    "print(label_X)\n",
    "\n",
    "# One-hot encode the \"Pclass\" column\n",
    "pclass_encoded = ohe.fit_transform(label_X[['Pclass']])\n",
    "pclass_encoded_df = pd.DataFrame(pclass_encoded, columns=['Pclass_1', 'Pclass_2', 'Pclass_3'])\n",
    "\n",
    "# Concatenate the one-hot encoded column with the original dataframe\n",
    "label_X_encoded = pd.concat([label_X.drop('Pclass', axis=1), pclass_encoded_df], axis=1)\n",
    "\n",
    "print(label_X_encoded)\n",
    "#Do we need to do more before splitting into training and test\n"
   ]
  },
  {
   "cell_type": "code",
   "execution_count": null,
   "metadata": {},
   "outputs": [],
   "source": []
  }
 ],
 "metadata": {
  "kernelspec": {
   "display_name": "Python 3",
   "language": "python",
   "name": "python3"
  },
  "language_info": {
   "codemirror_mode": {
    "name": "ipython",
    "version": 3
   },
   "file_extension": ".py",
   "mimetype": "text/x-python",
   "name": "python",
   "nbconvert_exporter": "python",
   "pygments_lexer": "ipython3",
   "version": "3.10.12"
  }
 },
 "nbformat": 4,
 "nbformat_minor": 2
}
